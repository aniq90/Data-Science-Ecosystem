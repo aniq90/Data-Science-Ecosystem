{
  "metadata": {
    "kernelspec": {
      "name": "python",
      "display_name": "Python (Pyodide)",
      "language": "python"
    },
    "language_info": {
      "codemirror_mode": {
        "name": "python",
        "version": 3
      },
      "file_extension": ".py",
      "mimetype": "text/x-python",
      "name": "python",
      "nbconvert_exporter": "python",
      "pygments_lexer": "ipython3",
      "version": "3.8"
    }
  },
  "nbformat_minor": 4,
  "nbformat": 4,
  "cells": [
    {
      "cell_type": "markdown",
      "source": "# Data Science Tools and Ecosystem",
      "metadata": {}
    },
    {
      "cell_type": "markdown",
      "source": "In this notebook, we provide an overview of the Data Science Tools and Ecosystem. Data science tools are essential for data scientists and analysts to extract valuable insights from data. These tools assist in various tasks such as data ingestion, cleaning, processing, analysis, visualization, and modeling. Here are some key tools commonly used in the data science ecosystem",
      "metadata": {}
    },
    {
      "cell_type": "markdown",
      "source": "#### Some of the popular languages that Data Scientists use are:\n\n1. Python\n2. R\n3. Julia",
      "metadata": {}
    },
    {
      "cell_type": "markdown",
      "source": "#### Some of the commonly used libraries used by Data Scientists include:\n\npandas: A powerful library for data manipulation and analysis.\nNumPy: Essential for numerical computations and handling large arrays.\nMatplotlib: A plotting library for creating static, animated, and interactive visualizations.",
      "metadata": {}
    },
    {
      "cell_type": "markdown",
      "source": "Using some tools in Data Science\nhere is the table:\n\n| Data Science Tools           |\n|------------------------------|\n| Jupyter Notebook             |\n| RStudio                      |\n| Apache Zeppelin              |\n\nThese development environment tools are widely used in the data science community for their flexibility and powerful features.",
      "metadata": {}
    },
    {
      "cell_type": "markdown",
      "source": "### Below are a few examples of evaluating arithmetic expressions in Python\n\nHere are some simple examples of addition and subtraction:\n\n```python\n# Addition\nresult_addition = 5 + 3\nprint(\"5 + 3 =\", result_addition)\n\n# Subtraction\nresult_subtraction = 10 - 4\nprint(\"10 - 4 =\", result_subtraction)",
      "metadata": {}
    },
    {
      "cell_type": "markdown",
      "source": "### This is a simple arithmetic expression to multiply then add integers\nresult = (8 * 10) + 50\nprint(result)  # Expected output: 130",
      "metadata": {}
    },
    {
      "cell_type": "markdown",
      "source": "### This will convert 300 minutes to hours by dividing by 60\nminutes = 300\nhours = minutes / 60\nprint(hours)  # Expected output: 5.0",
      "metadata": {}
    },
    {
      "cell_type": "markdown",
      "source": "**Objectives:**\n\n- **Provide an overview of Data Science Tools and Ecosystem**: This notebook introduces various tools and technologies that are essential for data science, including programming languages, libraries, and development environments.\n\n- **List popular languages for Data Science**: We highlight the most commonly used programming languages in data science, such as Python, R, and SQL, explaining their importance and use cases.\n\n- **Highlight commonly used libraries in Data Science**: This section covers key libraries like pandas, NumPy, and Scikit-Learn, which are fundamental for data manipulation, numerical computations, and machine learning.\n\n- **Demonstrate basic arithmetic operations in Python**: Simple examples of arithmetic operations, such as addition and subtraction, are provided to illustrate how Python can be used for basic mathematical calculations.\n\n- **Convert time units from minutes to hours using Python**: An example is given to show how to convert minutes into hours using a Python expression, demonstrating practical applications of arithmetic operations in data science",
      "metadata": {}
    },
    {
      "cell_type": "markdown",
      "source": "## Author\nAniq Ahmed",
      "metadata": {}
    },
    {
      "cell_type": "code",
      "source": "",
      "metadata": {
        "trusted": true
      },
      "outputs": [],
      "execution_count": null
    }
  ]
}